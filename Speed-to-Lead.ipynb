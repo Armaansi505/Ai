{
 "cells": [
  {
   "cell_type": "raw",
   "id": "e982b8d7-41b2-4cec-8c84-8a623dad1781",
   "metadata": {},
   "source": [
    "Problem Summary\n",
    "\n",
    "Inbound leads decay fast with slower first responses. In our data (1,500 leads), the median response time is 167 minutes (~2.8h) and overall conversion is 8.73%. Conversion drops steeply after the first few hours and is near zero after 24h. We need to quantify how response time drives conversion and revenue across source (Paid/Organic/Referral/Event) and segment (SMB/Mid-Market/Enterprise), then set SLAs, routing, and staffing rules that maximize wins and revenue under real capacity constraints.\n",
    "\n",
    "Goal: build a lean, explainable model + EDA to (1) measure the penalty of delay, (2) size the impact of faster SLAs, and (3) prioritize which leads to respond to first (by source×segment), producing clear operational targets and a tracking plan."
   ]
  },
  {
   "cell_type": "code",
   "execution_count": 1,
   "id": "528c511d-58cb-4249-a20e-d43ebc8bec04",
   "metadata": {},
   "outputs": [
    {
     "data": {
      "text/html": [
       "<div>\n",
       "<style scoped>\n",
       "    .dataframe tbody tr th:only-of-type {\n",
       "        vertical-align: middle;\n",
       "    }\n",
       "\n",
       "    .dataframe tbody tr th {\n",
       "        vertical-align: top;\n",
       "    }\n",
       "\n",
       "    .dataframe thead th {\n",
       "        text-align: right;\n",
       "    }\n",
       "</style>\n",
       "<table border=\"1\" class=\"dataframe\">\n",
       "  <thead>\n",
       "    <tr style=\"text-align: right;\">\n",
       "      <th></th>\n",
       "      <th>lead_id</th>\n",
       "      <th>created_at</th>\n",
       "      <th>owner</th>\n",
       "      <th>source</th>\n",
       "      <th>segment</th>\n",
       "      <th>response_minutes</th>\n",
       "      <th>converted</th>\n",
       "      <th>deal_value</th>\n",
       "    </tr>\n",
       "  </thead>\n",
       "  <tbody>\n",
       "    <tr>\n",
       "      <th>0</th>\n",
       "      <td>L00001</td>\n",
       "      <td>2025-05-11 15:46:46</td>\n",
       "      <td>rep_04</td>\n",
       "      <td>Paid</td>\n",
       "      <td>Mid-Market</td>\n",
       "      <td>112</td>\n",
       "      <td>1</td>\n",
       "      <td>11951.51</td>\n",
       "    </tr>\n",
       "    <tr>\n",
       "      <th>1</th>\n",
       "      <td>L00002</td>\n",
       "      <td>2024-06-22 08:56:59</td>\n",
       "      <td>rep_12</td>\n",
       "      <td>Paid</td>\n",
       "      <td>SMB</td>\n",
       "      <td>40</td>\n",
       "      <td>0</td>\n",
       "      <td>0.00</td>\n",
       "    </tr>\n",
       "    <tr>\n",
       "      <th>2</th>\n",
       "      <td>L00003</td>\n",
       "      <td>2025-02-27 14:22:08</td>\n",
       "      <td>rep_01</td>\n",
       "      <td>Paid</td>\n",
       "      <td>SMB</td>\n",
       "      <td>14</td>\n",
       "      <td>1</td>\n",
       "      <td>20207.68</td>\n",
       "    </tr>\n",
       "    <tr>\n",
       "      <th>3</th>\n",
       "      <td>L00004</td>\n",
       "      <td>2024-03-13 18:36:21</td>\n",
       "      <td>rep_01</td>\n",
       "      <td>Paid</td>\n",
       "      <td>SMB</td>\n",
       "      <td>220</td>\n",
       "      <td>0</td>\n",
       "      <td>0.00</td>\n",
       "    </tr>\n",
       "    <tr>\n",
       "      <th>4</th>\n",
       "      <td>L00005</td>\n",
       "      <td>2025-03-11 22:21:58</td>\n",
       "      <td>rep_09</td>\n",
       "      <td>Paid</td>\n",
       "      <td>Mid-Market</td>\n",
       "      <td>4</td>\n",
       "      <td>1</td>\n",
       "      <td>6113.87</td>\n",
       "    </tr>\n",
       "  </tbody>\n",
       "</table>\n",
       "</div>"
      ],
      "text/plain": [
       "  lead_id          created_at   owner source     segment  response_minutes  \\\n",
       "0  L00001 2025-05-11 15:46:46  rep_04   Paid  Mid-Market               112   \n",
       "1  L00002 2024-06-22 08:56:59  rep_12   Paid         SMB                40   \n",
       "2  L00003 2025-02-27 14:22:08  rep_01   Paid         SMB                14   \n",
       "3  L00004 2024-03-13 18:36:21  rep_01   Paid         SMB               220   \n",
       "4  L00005 2025-03-11 22:21:58  rep_09   Paid  Mid-Market                 4   \n",
       "\n",
       "   converted  deal_value  \n",
       "0          1    11951.51  \n",
       "1          0        0.00  \n",
       "2          1    20207.68  \n",
       "3          0        0.00  \n",
       "4          1     6113.87  "
      ]
     },
     "execution_count": 1,
     "metadata": {},
     "output_type": "execute_result"
    }
   ],
   "source": [
    "import pandas as pd\n",
    "import numpy as np\n",
    "from pathlib import Path\n",
    "\n",
    "CSV_PATH = Path(\"speed_to_lead.csv\")  \n",
    "\n",
    "df = pd.read_csv(CSV_PATH, parse_dates=[\"created_at\"])\n",
    "df = df.dropna(subset=[\"response_minutes\", \"converted\"]).copy()\n",
    "df[\"response_minutes\"] = df[\"response_minutes\"].clip(1, 5*24*60)  # cap at 5 days\n",
    "df[\"converted\"] = df[\"converted\"].astype(int)\n",
    "df[\"deal_value\"] = df[\"deal_value\"].astype(float)\n",
    "\n",
    "df.head()\n"
   ]
  },
  {
   "cell_type": "code",
   "execution_count": 2,
   "id": "a2470cd1-db5c-4fde-8a08-03719fa1c3cc",
   "metadata": {},
   "outputs": [
    {
     "data": {
      "text/plain": [
       "((1500, 14),\n",
       " lead_id                     object\n",
       " created_at          datetime64[ns]\n",
       " owner                       object\n",
       " source                      object\n",
       " segment                     object\n",
       " response_minutes             int64\n",
       " converted                    int64\n",
       " deal_value                 float64\n",
       " response_hours             float64\n",
       " dow                          int32\n",
       " hour                         int32\n",
       " in_biz_hours                 int64\n",
       " revenue_realized           float64\n",
       " resp_bucket               category\n",
       " dtype: object)"
      ]
     },
     "execution_count": 2,
     "metadata": {},
     "output_type": "execute_result"
    }
   ],
   "source": [
    "# Basic features\n",
    "df[\"response_hours\"] = (df[\"response_minutes\"] / 60).clip(upper=120)\n",
    "df[\"dow\"] = df[\"created_at\"].dt.dayofweek            # 0=Mon\n",
    "df[\"hour\"] = df[\"created_at\"].dt.hour\n",
    "df[\"in_biz_hours\"] = ((df[\"hour\"] >= 8) & (df[\"hour\"] <= 18)).astype(int)\n",
    "df[\"revenue_realized\"] = np.where(df[\"converted\"]==1, df[\"deal_value\"], 0.0)\n",
    "\n",
    "# Buckets for easy analysis\n",
    "bins = [0,1,3,6,12,24,48,72,120]\n",
    "labels = [\"<=1h\",\"1-3h\",\"3-6h\",\"6-12h\",\"12-24h\",\"24-48h\",\"48-72h\",\"72-120h\"]\n",
    "df[\"resp_bucket\"] = pd.cut(df[\"response_hours\"], bins=bins, labels=labels, include_lowest=True, right=True)\n",
    "\n",
    "\n",
    "df.shape, df.dtypes\n"
   ]
  },
  {
   "cell_type": "code",
   "execution_count": 3,
   "id": "326d01c0-3867-4e28-b812-156f7b5e46f6",
   "metadata": {},
   "outputs": [
    {
     "name": "stdout",
     "output_type": "stream",
     "text": [
      "Rows: 1500\n",
      "Overall conversion %: 8.73\n",
      "Median response (min): 167\n",
      "Avg deal value (wins only): 9198.15\n",
      "\n",
      "Conversion by response bucket (%):\n",
      "resp_bucket\n",
      "<=1h       16.48\n",
      "1-3h       10.21\n",
      "3-6h        4.86\n",
      "6-12h       2.95\n",
      "12-24h      2.38\n",
      "24-48h      0.00\n",
      "48-72h       NaN\n",
      "72-120h      NaN\n",
      "Name: converted, dtype: float64\n",
      "\n",
      "Conversion by source x segment (%):\n",
      "segment   Enterprise  Mid-Market    SMB\n",
      "source                                 \n",
      "Event          11.76       12.82   7.69\n",
      "Organic         2.63        7.91  11.82\n",
      "Paid            2.56        8.42   5.88\n",
      "Referral        4.00       14.63  13.19\n",
      "\n",
      "Owner leaderboard (conv% and median response mins):\n",
      "         conv  med_resp\n",
      "owner                  \n",
      "rep_04  15.38       141\n",
      "rep_09  12.37       224\n",
      "rep_02  10.87       202\n",
      "rep_07  10.58       140\n",
      "rep_06   9.09       156\n",
      "rep_14   8.65       140\n",
      "rep_10   8.46       166\n",
      "rep_05   8.16       174\n",
      "rep_01   7.92       157\n",
      "rep_11   7.89       145\n"
     ]
    },
    {
     "name": "stderr",
     "output_type": "stream",
     "text": [
      "/var/folders/h9/gzr74y057cg4kqqvn88zchwm0000gn/T/ipykernel_12099/1706756873.py:7: FutureWarning: The default of observed=False is deprecated and will be changed to True in a future version of pandas. Pass observed=False to retain current behavior or observed=True to adopt the future default and silence this warning.\n",
      "  conv_by_bucket = df.groupby(\"resp_bucket\")[\"converted\"].mean().mul(100).round(2)\n"
     ]
    }
   ],
   "source": [
    "print(\"Rows:\", len(df))\n",
    "print(\"Overall conversion %:\", round(100*df[\"converted\"].mean(), 2))\n",
    "print(\"Median response (min):\", int(df[\"response_minutes\"].median()))\n",
    "print(\"Avg deal value (wins only):\", round(df.loc[df[\"converted\"]==1, \"deal_value\"].mean(), 2))\n",
    "\n",
    "print(\"\\nConversion by response bucket (%):\")\n",
    "conv_by_bucket = df.groupby(\"resp_bucket\")[\"converted\"].mean().mul(100).round(2)\n",
    "print(conv_by_bucket)\n",
    "\n",
    "print(\"\\nConversion by source x segment (%):\")\n",
    "pivot = df.pivot_table(values=\"converted\", index=\"source\", columns=\"segment\", aggfunc=\"mean\").mul(100).round(2)\n",
    "print(pivot)\n",
    "\n",
    "print(\"\\nOwner leaderboard (conv% and median response mins):\")\n",
    "owner = df.groupby(\"owner\").agg(conv=(\"converted\",\"mean\"),\n",
    "                                med_resp=(\"response_minutes\",\"median\")).sort_values(\"conv\", ascending=False)\n",
    "owner[\"conv\"] = (owner[\"conv\"]*100).round(2)\n",
    "owner[\"med_resp\"] = owner[\"med_resp\"].round(0).astype(int)\n",
    "print(owner.head(10))\n"
   ]
  },
  {
   "cell_type": "code",
   "execution_count": 4,
   "id": "a885c28f-3a22-43ba-8273-e2ab4bc4f092",
   "metadata": {},
   "outputs": [
    {
     "name": "stdout",
     "output_type": "stream",
     "text": [
      "AUC: 0.721 | LogLoss: 0.274\n"
     ]
    }
   ],
   "source": [
    "from sklearn.linear_model import LogisticRegression\n",
    "from sklearn.metrics import roc_auc_score, log_loss\n",
    "import numpy as np\n",
    "import pandas as pd\n",
    "\n",
    "# Ensure this is after your Step 1–2 where df is prepared\n",
    "work = df.copy()\n",
    "work[\"log_resp_min\"] = np.log1p(work[\"response_minutes\"])\n",
    "\n",
    "# One-hot with fixed reference set (drop_first to keep things lean)\n",
    "X = pd.get_dummies(\n",
    "    work[[\"log_resp_min\", \"in_biz_hours\", \"source\", \"segment\", \"dow\"]],\n",
    "    drop_first=True\n",
    ")\n",
    "y = work[\"converted\"].values\n",
    "\n",
    "# 👉 Lock the training columns (order + names)\n",
    "train_cols = X.columns\n",
    "\n",
    "clf = LogisticRegression(max_iter=200)\n",
    "clf.fit(X, y)\n",
    "\n",
    "probs = clf.predict_proba(X)[:, 1]\n",
    "print(\"AUC:\", round(roc_auc_score(y, probs), 3), \"| LogLoss:\", round(log_loss(y, probs), 3))"
   ]
  },
  {
   "cell_type": "code",
   "execution_count": 5,
   "id": "dde771b6-cffa-4207-ad20-9c495ef36785",
   "metadata": {},
   "outputs": [
    {
     "data": {
      "text/html": [
       "<div>\n",
       "<style scoped>\n",
       "    .dataframe tbody tr th:only-of-type {\n",
       "        vertical-align: middle;\n",
       "    }\n",
       "\n",
       "    .dataframe tbody tr th {\n",
       "        vertical-align: top;\n",
       "    }\n",
       "\n",
       "    .dataframe thead th {\n",
       "        text-align: right;\n",
       "    }\n",
       "</style>\n",
       "<table border=\"1\" class=\"dataframe\">\n",
       "  <thead>\n",
       "    <tr style=\"text-align: right;\">\n",
       "      <th></th>\n",
       "      <th>response_minutes</th>\n",
       "      <th>pred_conv</th>\n",
       "    </tr>\n",
       "  </thead>\n",
       "  <tbody>\n",
       "    <tr>\n",
       "      <th>0</th>\n",
       "      <td>1</td>\n",
       "      <td>0.354442</td>\n",
       "    </tr>\n",
       "    <tr>\n",
       "      <th>1</th>\n",
       "      <td>31</td>\n",
       "      <td>0.136424</td>\n",
       "    </tr>\n",
       "    <tr>\n",
       "      <th>2</th>\n",
       "      <td>61</td>\n",
       "      <td>0.104733</td>\n",
       "    </tr>\n",
       "    <tr>\n",
       "      <th>3</th>\n",
       "      <td>91</td>\n",
       "      <td>0.089037</td>\n",
       "    </tr>\n",
       "    <tr>\n",
       "      <th>4</th>\n",
       "      <td>121</td>\n",
       "      <td>0.079132</td>\n",
       "    </tr>\n",
       "  </tbody>\n",
       "</table>\n",
       "</div>"
      ],
      "text/plain": [
       "   response_minutes  pred_conv\n",
       "0                 1   0.354442\n",
       "1                31   0.136424\n",
       "2                61   0.104733\n",
       "3                91   0.089037\n",
       "4               121   0.079132"
      ]
     },
     "execution_count": 5,
     "metadata": {},
     "output_type": "execute_result"
    }
   ],
   "source": [
    "def pdp_response_minutes(model, x_template: pd.DataFrame, minutes_grid=None):\n",
    "    if minutes_grid is None:\n",
    "        minutes_grid = np.arange(1, 5*24*60+1, 30)  # every 30 mins up to 5 days\n",
    "    fixed = x_template.copy()\n",
    "    out = []\n",
    "    for rm in minutes_grid:\n",
    "        tmp = fixed.copy()\n",
    "        tmp[\"log_resp_min\"] = np.log1p(rm)\n",
    "        p = model.predict_proba(tmp)[:,1].mean()\n",
    "        out.append({\"response_minutes\": rm, \"pred_conv\": p})\n",
    "    return pd.DataFrame(out)\n",
    "\n",
    "x_template = X.copy()  # use the observed mix for marginal averaging\n",
    "pdp = pdp_response_minutes(clf, x_template)\n",
    "pdp.head()\n"
   ]
  },
  {
   "cell_type": "code",
   "execution_count": 6,
   "id": "22cfc94e-357f-4c88-ad81-e228fcb9e2d7",
   "metadata": {},
   "outputs": [
    {
     "data": {
      "image/png": "[encoded data removed]",
      "text/plain": [
       "<Figure size 640x480 with 1 Axes>"
      ]
     },
     "metadata": {},
     "output_type": "display_data"
    }
   ],
   "source": [
    "import matplotlib.pyplot as plt\n",
    "\n",
    "plt.figure()\n",
    "plt.plot(pdp[\"response_minutes\"]/60.0, pdp[\"pred_conv\"])\n",
    "plt.xlabel(\"Response Hours\")\n",
    "plt.ylabel(\"Predicted Conversion\")\n",
    "plt.title(\"Predicted Conversion vs Response Time\")\n",
    "plt.grid(True)\n",
    "plt.show()\n"
   ]
  },
  {
   "cell_type": "code",
   "execution_count": 9,
   "id": "14e2a4ea-f977-4988-9df0-6fef518c7adc",
   "metadata": {},
   "outputs": [],
   "source": [
    "def make_X_from(df_in: pd.DataFrame, use_cols) -> pd.DataFrame:\n",
    "    tmp = df_in.copy()\n",
    "    if \"log_resp_min\" not in tmp:\n",
    "        tmp[\"log_resp_min\"] = np.log1p(tmp[\"response_minutes\"])\n",
    "    X_tmp = pd.get_dummies(\n",
    "        tmp[[\"log_resp_min\", \"in_biz_hours\", \"source\", \"segment\", \"dow\"]],\n",
    "        drop_first=True\n",
    "    )\n",
    "    # 👉 Force exact same columns as training (missing -> 0, extras dropped)\n",
    "    X_tmp = X_tmp.reindex(columns=use_cols, fill_value=0)\n",
    "    return X_tmp\n"
   ]
  },
  {
   "cell_type": "code",
   "execution_count": 10,
   "id": "fe9af921-c692-4bbd-a897-63937326cbb0",
   "metadata": {},
   "outputs": [
    {
     "data": {
      "text/plain": [
       "{'sla_hours': 3.0,\n",
       " 'baseline_expected_wins': 130.94490407841045,\n",
       " 'sla_expected_wins': 142.95348066758677,\n",
       " 'delta_wins': 12.008576589176329,\n",
       " 'baseline_expected_revenue': 159283.43090194452,\n",
       " 'sla_expected_revenue': 163048.99146021894,\n",
       " 'delta_revenue': 3765.5605582744174}"
      ]
     },
     "execution_count": 10,
     "metadata": {},
     "output_type": "execute_result"
    }
   ],
   "source": [
    "def simulate_sla(model, df_original: pd.DataFrame, sla_hours: float, train_cols) -> dict:\n",
    "    temp = df_original.copy()\n",
    "\n",
    "    # Baseline predictions\n",
    "    X_now = make_X_from(temp, train_cols)\n",
    "    p_now = model.predict_proba(X_now)[:, 1]\n",
    "\n",
    "    # SLA-capped predictions\n",
    "    capped_minutes = np.minimum(temp[\"response_minutes\"].values, sla_hours * 60.0)\n",
    "    temp_sla = temp.copy()\n",
    "    temp_sla[\"log_resp_min\"] = np.log1p(capped_minutes)\n",
    "    X_sla = make_X_from(temp_sla, train_cols)\n",
    "    p_sla = model.predict_proba(X_sla)[:, 1]\n",
    "\n",
    "    ev_now = float((p_now * temp[\"deal_value\"].values).sum())\n",
    "    ev_sla = float((p_sla * temp[\"deal_value\"].values).sum())\n",
    "\n",
    "    return {\n",
    "        \"sla_hours\": sla_hours,\n",
    "        \"baseline_expected_wins\": float(p_now.sum()),\n",
    "        \"sla_expected_wins\": float(p_sla.sum()),\n",
    "        \"delta_wins\": float(p_sla.sum() - p_now.sum()),\n",
    "        \"baseline_expected_revenue\": ev_now,\n",
    "        \"sla_expected_revenue\": ev_sla,\n",
    "        \"delta_revenue\": float(ev_sla - ev_now),\n",
    "    }\n",
    "\n",
    "# Example:\n",
    "res_3h = simulate_sla(clf, df, sla_hours=3.0, train_cols=train_cols)\n",
    "res_3h\n"
   ]
  },
  {
   "cell_type": "code",
   "execution_count": 11,
   "id": "ec210566-0676-4771-b78a-84b36cf043a2",
   "metadata": {},
   "outputs": [
    {
     "data": {
      "text/html": [
       "<div>\n",
       "<style scoped>\n",
       "    .dataframe tbody tr th:only-of-type {\n",
       "        vertical-align: middle;\n",
       "    }\n",
       "\n",
       "    .dataframe tbody tr th {\n",
       "        vertical-align: top;\n",
       "    }\n",
       "\n",
       "    .dataframe thead th {\n",
       "        text-align: right;\n",
       "    }\n",
       "</style>\n",
       "<table border=\"1\" class=\"dataframe\">\n",
       "  <thead>\n",
       "    <tr style=\"text-align: right;\">\n",
       "      <th></th>\n",
       "      <th>segment</th>\n",
       "      <th>sla_hours</th>\n",
       "      <th>delta_wins</th>\n",
       "      <th>delta_revenue</th>\n",
       "    </tr>\n",
       "  </thead>\n",
       "  <tbody>\n",
       "    <tr>\n",
       "      <th>0</th>\n",
       "      <td>SMB</td>\n",
       "      <td>2.0</td>\n",
       "      <td>7.146796</td>\n",
       "      <td>3410.395637</td>\n",
       "    </tr>\n",
       "    <tr>\n",
       "      <th>1</th>\n",
       "      <td>Mid-Market</td>\n",
       "      <td>3.0</td>\n",
       "      <td>2.059419</td>\n",
       "      <td>385.032574</td>\n",
       "    </tr>\n",
       "    <tr>\n",
       "      <th>2</th>\n",
       "      <td>Enterprise</td>\n",
       "      <td>6.0</td>\n",
       "      <td>0.152012</td>\n",
       "      <td>0.000000</td>\n",
       "    </tr>\n",
       "  </tbody>\n",
       "</table>\n",
       "</div>"
      ],
      "text/plain": [
       "      segment  sla_hours  delta_wins  delta_revenue\n",
       "0         SMB        2.0    7.146796    3410.395637\n",
       "1  Mid-Market        3.0    2.059419     385.032574\n",
       "2  Enterprise        6.0    0.152012       0.000000"
      ]
     },
     "execution_count": 11,
     "metadata": {},
     "output_type": "execute_result"
    }
   ],
   "source": [
    "def simulate_segment_slas(model, df_original: pd.DataFrame, sla_map: dict, train_cols):\n",
    "    rows = []\n",
    "    for seg, h in sla_map.items():\n",
    "        subset = df_original[df_original[\"segment\"] == seg]\n",
    "        if subset.empty:\n",
    "            continue\n",
    "        r = simulate_sla(model, subset, sla_hours=h, train_cols=train_cols)\n",
    "        r[\"segment\"] = seg\n",
    "        rows.append(r)\n",
    "    return pd.DataFrame(rows)\n",
    "\n",
    "sla_targets = {\"SMB\": 2.0, \"Mid-Market\": 3.0, \"Enterprise\": 6.0}\n",
    "seg_results = simulate_segment_slas(clf, df, sla_targets, train_cols)\n",
    "seg_results[[\"segment\", \"sla_hours\", \"delta_wins\", \"delta_revenue\"]].sort_values(\"delta_revenue\", ascending=False)\n"
   ]
  },
  {
   "cell_type": "raw",
   "id": "f34f2abf-2045-48de-aa01-04172073fc0d",
   "metadata": {},
   "source": [
    "The project delivers a speed-to-lead operating playbook that implements tiered SLAs (SMB ≤2h, Mid-Market ≤3h, Enterprise ≤6h with a 3h global backstop), reroutes intake to prioritize Referral and Organic leads (then Event, then Paid) and within each, responds first to SMB, then Mid-Market, then Enterprise, and adds instant auto-ack + quick scheduling to preserve the “fast touch.” Using the fitted model and what-if simulations\n",
    "This policy is expected to add ~12 wins per 1,500 leads—about $110K incremental revenue assuming ~$9.2K per won deal—with the largest lift in SMB and a meaningful but smaller lift in Mid-Market. Success is monitored via weekly dashboards tracking SLA attainment by segment and source, conversion by response-time buckets, incremental wins/revenue vs baseline, and a mix-adjusted rep leaderboard, creating a simple, repeatable rhythm for continuous improvement."
   ]
  },
  {
   "cell_type": "code",
   "execution_count": null,
   "id": "f6ca4987-382f-4a57-ad0d-06e674bf695c",
   "metadata": {},
   "outputs": [],
   "source": []
  }
 ],
 "metadata": {
  "kernelspec": {
   "display_name": "Python 3 (ipykernel)",
   "language": "python",
   "name": "python3"
  },
  "language_info": {
   "codemirror_mode": {
    "name": "ipython",
    "version": 3
   },
   "file_extension": ".py",
   "mimetype": "text/x-python",
   "name": "python",
   "nbconvert_exporter": "python",
   "pygments_lexer": "ipython3",
   "version": "3.13.5"
  }
 },
 "nbformat": 4,
 "nbformat_minor": 5
}
